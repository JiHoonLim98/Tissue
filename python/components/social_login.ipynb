{
 "cells": [
  {
   "cell_type": "code",
   "execution_count": 2,
   "id": "79046958",
   "metadata": {},
   "outputs": [],
   "source": [
    "import requests\n",
    "import json\n",
    "import os\n",
    "import datetime\n",
    "\n",
    "\n",
    "def kakao_login(code):\n",
    "\n",
    "    url = \"https://kauth.kakao.com/oauth/token\"\n",
    "\n",
    "    data = {\n",
    "        \"grant_type\" : \"authorization_code\",\n",
    "        \"client_id\" : \"1ca3145ada53150bac1d6836a34cb5ec\",\n",
    "        \"redirect_uri\" : \"http://localhost:8080/kakaoLogin\",\n",
    "        \"code\" : code\n",
    "    }\n",
    "\n",
    "    response = requests.post(url, data=data)\n",
    "\n",
    "    if response.status_code != 200:\n",
    "        print(\"Error!\")\n",
    "        print(response.status_code)\n",
    "    else:\n",
    "        tokens = response.json()\n",
    "        print(tokens)\n",
    "        \n",
    "    return tokens\n",
    "\n",
    "    \n",
    "def save_tokens(filename, tokens):\n",
    "    with open(filename, \"w\") as fp:\n",
    "        json.dump(tokens, fp)\n",
    "        \n",
    "# 읽기\n",
    "def load_tokens(filename):\n",
    "    with open(filename) as fp:\n",
    "        tokens = json.load(fp)\n",
    "        \n",
    "    return tokens"
   ]
  },
  {
   "cell_type": "code",
   "execution_count": 3,
   "id": "30f15ba4",
   "metadata": {},
   "outputs": [],
   "source": [
    "def google_login(code):\n",
    "    \n",
    "    url = 'https://accounts.google.com/o/oauth2/token'\n",
    "    \n",
    "    data = {\n",
    "        \"grant_type\" : \"authorization_code\",\n",
    "        \"client_id\" : \"749462997498-0a9inj9a7sd1gcvhnqaucs4ri8liotth.apps.googleusercontent.com\",\n",
    "        \"client_secret\" : \"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\",\n",
    "        \"redirect_uri\" : \"http://localhost:8080/googleLogin\",\n",
    "        \"code\" : code\n",
    "    }\n",
    "    \n",
    "    response = requests.post(url, data=data)\n",
    "    \n",
    "    if response.status_code != 200:\n",
    "        print(\"Error!\")\n",
    "        print(response.status_code)\n",
    "    else:\n",
    "        tokens = response.json()\n",
    "        print(tokens)\n",
    "        \n",
    "    return tokens"
   ]
  },
  {
   "cell_type": "code",
   "execution_count": null,
   "id": "38675683",
   "metadata": {},
   "outputs": [
    {
     "name": "stdout",
     "output_type": "stream",
     "text": [
      " * Serving Flask app \"__main__\" (lazy loading)\n",
      " * Environment: production\n",
      "\u001b[31m   WARNING: This is a development server. Do not use it in a production deployment.\u001b[0m\n",
      "\u001b[2m   Use a production WSGI server instead.\u001b[0m\n",
      " * Debug mode: off\n"
     ]
    },
    {
     "name": "stderr",
     "output_type": "stream",
     "text": [
      " * Running on http://127.0.0.1:5000/ (Press CTRL+C to quit)\n",
      "[2022-07-12 19:21:57,520] ERROR in app: Exception on /kakao [GET]\n",
      "Traceback (most recent call last):\n",
      "  File \"C:\\python\\lib\\site-packages\\flask\\app.py\", line 2447, in wsgi_app\n",
      "    response = self.full_dispatch_request()\n",
      "  File \"C:\\python\\lib\\site-packages\\flask\\app.py\", line 1952, in full_dispatch_request\n",
      "    rv = self.handle_user_exception(e)\n",
      "  File \"C:\\python\\lib\\site-packages\\flask_cors\\extension.py\", line 165, in wrapped_function\n",
      "    return cors_after_request(app.make_response(f(*args, **kwargs)))\n",
      "  File \"C:\\python\\lib\\site-packages\\flask\\app.py\", line 1821, in handle_user_exception\n",
      "    reraise(exc_type, exc_value, tb)\n",
      "  File \"C:\\python\\lib\\site-packages\\flask\\_compat.py\", line 39, in reraise\n",
      "    raise value\n",
      "  File \"C:\\python\\lib\\site-packages\\flask\\app.py\", line 1950, in full_dispatch_request\n",
      "    rv = self.dispatch_request()\n",
      "  File \"C:\\python\\lib\\site-packages\\flask\\app.py\", line 1936, in dispatch_request\n",
      "    return self.view_functions[rule.endpoint](**req.view_args)\n",
      "  File \"C:\\Users\\arim\\AppData\\Local\\Temp\\ipykernel_24396\\2575135180.py\", line 13, in kakaoLogin\n",
      "    auth_tokens = kakao_login(code)\n",
      "  File \"C:\\Users\\arim\\AppData\\Local\\Temp\\ipykernel_24396\\4236084928.py\", line 27, in kakao_login\n",
      "    return tokens\n",
      "UnboundLocalError: local variable 'tokens' referenced before assignment\n",
      "127.0.0.1 - - [12/Jul/2022 19:21:57] \"GET /kakao?code=amb1dhtQU1mQJZeu-frkSGi4omu9LViuc1xXZHJQB06igHMfGbUhkL5X6eTO97hOj740LAopb1QAAAGB8e4C8Q HTTP/1.1\" 500 -\n"
     ]
    },
    {
     "name": "stdout",
     "output_type": "stream",
     "text": [
      "Error!\n",
      "401\n"
     ]
    }
   ],
   "source": [
    "from flask import Flask, request, url_for, jsonify\n",
    "from flask_cors import CORS, cross_origin\n",
    "\n",
    "app = Flask(__name__)\n",
    "CORS(app)\n",
    "\n",
    "# Spring Controller와 동일한 역할 수행\n",
    "@app.route(\"/kakao\", methods=['GET'])\n",
    "def kakaoLogin():\n",
    "    code = request.args.get('code')\n",
    "    KAKAO_TOKEN_SAVED_FILE = \"../res/kakao_token.json\"\n",
    "    \n",
    "    auth_tokens = kakao_login(code)\n",
    "    \n",
    "    save_tokens(KAKAO_TOKEN_SAVED_FILE, auth_tokens)\n",
    "    tokens = load_tokens(KAKAO_TOKEN_SAVED_FILE)\n",
    "    \n",
    "    return tokens\n",
    "\n",
    "\n",
    "@app.route(\"/google\", methods=['GET'])\n",
    "def googleLogin():\n",
    "    code = request.args.get('code')\n",
    "    GOOGLE_TOKEN_SAVED_FILE = \"../res/google_token.json\"\n",
    "    \n",
    "    auth_tokens = google_login(code)\n",
    "    \n",
    "    save_tokens(GOOGLE_TOKEN_SAVED_FILE, auth_tokens)\n",
    "    tokens = load_tokens(GOOGLE_TOKEN_SAVED_FILE)\n",
    "    \n",
    "    return tokens\n",
    "\n",
    "if __name__ == \"__main__\":\n",
    "    app.run()"
   ]
  },
  {
   "cell_type": "code",
   "execution_count": null,
   "id": "dd79d1ac",
   "metadata": {},
   "outputs": [],
   "source": []
  }
 ],
 "metadata": {
  "kernelspec": {
   "display_name": "Python 3 (ipykernel)",
   "language": "python",
   "name": "python3"
  },
  "language_info": {
   "codemirror_mode": {
    "name": "ipython",
    "version": 3
   },
   "file_extension": ".py",
   "mimetype": "text/x-python",
   "name": "python",
   "nbconvert_exporter": "python",
   "pygments_lexer": "ipython3",
   "version": "3.9.12"
  }
 },
 "nbformat": 4,
 "nbformat_minor": 5
}
