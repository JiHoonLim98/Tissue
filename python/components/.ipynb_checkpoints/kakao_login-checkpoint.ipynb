{
 "cells": [
  {
   "cell_type": "code",
   "execution_count": 43,
   "id": "79046958",
   "metadata": {},
   "outputs": [],
   "source": [
    "import requests\n",
    "import json\n",
    "import os\n",
    "import datetime\n",
    "\n",
    "\n",
    "def kakao_login(code):\n",
    "\n",
    "    url = \"https://kauth.kakao.com/oauth/token\"\n",
    "\n",
    "    data = {\n",
    "        \"grant_type\" : \"authorization_code\",\n",
    "        \"client_id\" : \"a9dc62fd6bf5972a40961d2f9cd317e9\",\n",
    "        \"redirect_uri\" : \"http://localhost:8080/kakaoLogin\",\n",
    "        \"code\" : code\n",
    "    }\n",
    "\n",
    "    response = requests.post(url, data=data)\n",
    "\n",
    "    if response.status_code != 200:\n",
    "        print(\"Error!\")\n",
    "        print(response.status_code)\n",
    "    else:\n",
    "        tokens = response.json()\n",
    "        print(tokens)\n",
    "        \n",
    "    return tokens\n",
    "\n",
    "    \n",
    "def save_tokens(filename, tokens):\n",
    "    with open(filename, \"w\") as fp:\n",
    "        json.dump(tokens, fp)\n",
    "        \n",
    "# 읽기\n",
    "def load_tokens(filename):\n",
    "    with open(filename) as fp:\n",
    "        tokens = json.load(fp)\n",
    "        \n",
    "    return tokens"
   ]
  },
  {
   "cell_type": "code",
   "execution_count": null,
   "id": "38675683",
   "metadata": {},
   "outputs": [
    {
     "name": "stdout",
     "output_type": "stream",
     "text": [
      " * Serving Flask app \"__main__\" (lazy loading)\n",
      " * Environment: production\n",
      "\u001b[31m   WARNING: This is a development server. Do not use it in a production deployment.\u001b[0m\n",
      "\u001b[2m   Use a production WSGI server instead.\u001b[0m\n",
      " * Debug mode: off\n"
     ]
    },
    {
     "name": "stderr",
     "output_type": "stream",
     "text": [
      " * Running on http://127.0.0.1:5000/ (Press CTRL+C to quit)\n"
     ]
    }
   ],
   "source": [
    "from flask import Flask, request, url_for, jsonify\n",
    "from flask_cors import CORS, cross_origin\n",
    "\n",
    "app = Flask(__name__)\n",
    "CORS(app)\n",
    "\n",
    "# Spring Controller와 동일한 역할 수행\n",
    "@app.route(\"/kakao\", methods=['GET'])\n",
    "def hello():\n",
    "    code = request.args.get('code')\n",
    "    KAKAO_TOKEN_SAVED_FILE = \"../res/kakao_token.json\"\n",
    "    \n",
    "    auth_tokens = kakao_login(code)\n",
    "    \n",
    "    save_tokens(KAKAO_TOKEN_SAVED_FILE, auth_tokens)\n",
    "    tokens = load_tokens(KAKAO_TOKEN_SAVED_FILE)\n",
    "    \n",
    "    return tokens\n",
    "\n",
    "if __name__ == \"__main__\":\n",
    "    app.run()"
   ]
  },
  {
   "cell_type": "code",
   "execution_count": null,
   "id": "cde92135",
   "metadata": {},
   "outputs": [],
   "source": []
  }
 ],
 "metadata": {
  "kernelspec": {
   "display_name": "Python 3 (ipykernel)",
   "language": "python",
   "name": "python3"
  },
  "language_info": {
   "codemirror_mode": {
    "name": "ipython",
    "version": 3
   },
   "file_extension": ".py",
   "mimetype": "text/x-python",
   "name": "python",
   "nbconvert_exporter": "python",
   "pygments_lexer": "ipython3",
   "version": "3.9.12"
  }
 },
 "nbformat": 4,
 "nbformat_minor": 5
}
